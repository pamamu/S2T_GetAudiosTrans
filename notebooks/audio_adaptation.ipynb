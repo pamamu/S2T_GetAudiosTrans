{
 "cells": [
  {
   "cell_type": "code",
   "execution_count": 3,
   "metadata": {
    "collapsed": true
   },
   "outputs": [],
   "source": [
    "import json\n",
    "import os\n",
    "import sox"
   ]
  },
  {
   "cell_type": "code",
   "execution_count": 4,
   "metadata": {},
   "outputs": [],
   "source": [
    "info_path = '/Users/pablomaciasmunoz/Dev/WS_TFG/S2T/input_audios/cadenaser_elfaro_20190313_013000_040000.json'\n",
    "audio_path = '/Users/pablomaciasmunoz/Dev/WS_TFG/S2T/input_audios/cadenaser_elfaro_20190313_013000_040000.mp3'"
   ]
  },
  {
   "cell_type": "code",
   "execution_count": 5,
   "metadata": {},
   "outputs": [],
   "source": [
    "info = json.load(open(info_path, 'r'))\n",
    "total_info = json.load(open(info_path, 'r'))\n",
    "speech = [i for i in info if i['value'] == 'speech']\n",
    "\n"
   ]
  },
  {
   "cell_type": "code",
   "execution_count": 6,
   "metadata": {},
   "outputs": [],
   "source": [
    "output_folder = \"/Users/pablomaciasmunoz/Dev/WS_TFG/S2T/input_audios/out\""
   ]
  },
  {
   "cell_type": "code",
   "execution_count": 7,
   "metadata": {},
   "outputs": [],
   "source": [
    "def split_audio(audio_path, start, end, output_path):\n",
    "    tfm = sox.Transformer()\n",
    "    tfm.trim(start, end)\n",
    "    tfm.build(audio_path, output_path)\n",
    "    return output_path\n"
   ]
  },
  {
   "cell_type": "code",
   "execution_count": 15,
   "metadata": {},
   "outputs": [],
   "source": [
    "silence_path = \"/Users/pablomaciasmunoz/Dev/WS_TFG/S2T/input_audios/silence.wav\"\n",
    "def split_silence(duration, output_path):\n",
    "    tfm = sox.Transformer()\n",
    "    tfm.trim(0, duration)\n",
    "    tfm.build(silence_path, output_path)\n",
    "    return output_path\n"
   ]
  },
  {
   "cell_type": "code",
   "execution_count": 16,
   "metadata": {
    "collapsed": true
   },
   "outputs": [],
   "source": [
    "info = []\n",
    "for i, j in enumerate(total_info):\n",
    "    if j['value'] == 'speech':\n",
    "        path = split_audio(audio_path, int(j['from']), int(j['to']), os.path.join(output_folder, '{}.wav'.format(i)))\n",
    "    else:\n",
    "        path = split_silence(int(j['to']) - int(j['from']), os.path.join(output_folder, '{}.wav'.format(i)))\n",
    "    info.append(\n",
    "        {\n",
    "            \"path\": path,\n",
    "            \"start_time\": int(j['from']) - 25,\n",
    "            \"end_time\": int(j['to']) - 25\n",
    "        }\n",
    "    )\n",
    "with open(os.path.join(output_folder, 'info.json'), 'w') as out:\n",
    "    json.dump(info, out, indent=4, ensure_ascii=False)\n"
   ]
  },
  {
   "cell_type": "code",
   "execution_count": 9,
   "metadata": {},
   "outputs": [
    {
     "data": {
      "text/plain": [
       "'/Users/pablomaciasmunoz/Dev/WS_TFG/S2T/input_audios/silence2.wav'"
      ]
     },
     "execution_count": 9,
     "metadata": {},
     "output_type": "execute_result"
    }
   ],
   "source": [
    "split_silence(5, \"/Users/pablomaciasmunoz/Dev/WS_TFG/S2T/input_audios/silence2.wav\")"
   ]
  },
  {
   "cell_type": "code",
   "execution_count": null,
   "metadata": {},
   "outputs": [],
   "source": []
  }
 ],
 "metadata": {
  "kernelspec": {
   "display_name": "Python 2",
   "language": "python",
   "name": "python2"
  },
  "language_info": {
   "codemirror_mode": {
    "name": "ipython",
    "version": 2
   },
   "file_extension": ".py",
   "mimetype": "text/x-python",
   "name": "python",
   "nbconvert_exporter": "python",
   "pygments_lexer": "ipython2",
   "version": "2.7.6"
  }
 },
 "nbformat": 4,
 "nbformat_minor": 0
}
